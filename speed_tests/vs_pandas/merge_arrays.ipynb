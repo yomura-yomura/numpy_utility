{
 "cells": [
  {
   "cell_type": "code",
   "execution_count": 1,
   "metadata": {
    "collapsed": true
   },
   "outputs": [],
   "source": [
    "import numpy as np\n",
    "import numpy_utility as npu\n",
    "import pandas as pd\n",
    "\n",
    "def use_pandas():\n",
    "    return pd.concat([df1, df2], axis=1)\n",
    "def use_numpy_utility():\n",
    "    return npu.merge_arrays([a1, a2])"
   ]
  },
  {
   "cell_type": "code",
   "execution_count": 2,
   "outputs": [],
   "source": [
    "a1 = np.empty((100,), dtype=[(\"index\", \"i4\"), (\"b\", \"f8\")])\n",
    "a1[\"index\"] = np.arange(100)\n",
    "a1[\"b\"] = np.arange(100)\n",
    "a2 = np.empty((10,), dtype=[(\"index\", \"i4\"), (\"c\", \"f8\")])\n",
    "a2[\"index\"] = np.arange(0, 100, 10)\n",
    "a2[\"c\"] = np.arange(10)\n",
    "df1 = pd.DataFrame(a1).set_index(\"index\")\n",
    "df2 = pd.DataFrame(a2).set_index(\"index\")"
   ],
   "metadata": {
    "collapsed": false,
    "pycharm": {
     "name": "#%%\n"
    }
   }
  },
  {
   "cell_type": "code",
   "execution_count": 3,
   "outputs": [
    {
     "name": "stdout",
     "output_type": "stream",
     "text": [
      "422 µs ± 104 µs per loop (mean ± std. dev. of 7 runs, 1000 loops each)\n",
      "407 µs ± 29.9 µs per loop (mean ± std. dev. of 7 runs, 1000 loops each)\n"
     ]
    }
   ],
   "source": [
    "%timeit use_pandas()\n",
    "%timeit use_numpy_utility()"
   ],
   "metadata": {
    "collapsed": false,
    "pycharm": {
     "name": "#%%\n"
    }
   }
  },
  {
   "cell_type": "code",
   "execution_count": 4,
   "outputs": [],
   "source": [
    "a1 = np.empty((100,), dtype=[(\"index1\", \"i4\"), (\"index2\", \"i4\"), (\"b\", \"f8\")])\n",
    "a1[\"index1\"] = np.arange(100)\n",
    "a1[\"index2\"] = 0\n",
    "a1[\"b\"] = np.arange(100)\n",
    "a2 = np.empty((100,), dtype=[(\"index1\", \"i4\"), (\"index2\", \"i4\"), (\"c\", \"f8\")])\n",
    "a2[\"index1\"] = np.arange(100)\n",
    "a2[\"index2\"] = 1\n",
    "a2[\"c\"] = np.arange(100)\n",
    "df1 = pd.DataFrame(a1).set_index([\"index1\", \"index2\"])\n",
    "df2 = pd.DataFrame(a2).set_index([\"index1\", \"index2\"])"
   ],
   "metadata": {
    "collapsed": false,
    "pycharm": {
     "name": "#%%\n"
    }
   }
  },
  {
   "cell_type": "code",
   "execution_count": 5,
   "outputs": [
    {
     "name": "stdout",
     "output_type": "stream",
     "text": [
      "2.09 ms ± 130 µs per loop (mean ± std. dev. of 7 runs, 100 loops each)\n",
      "529 µs ± 42.3 µs per loop (mean ± std. dev. of 7 runs, 1000 loops each)\n"
     ]
    }
   ],
   "source": [
    "%timeit use_pandas()\n",
    "%timeit use_numpy_utility()"
   ],
   "metadata": {
    "collapsed": false,
    "pycharm": {
     "name": "#%%\n"
    }
   }
  },
  {
   "cell_type": "code",
   "execution_count": null,
   "outputs": [],
   "source": [],
   "metadata": {
    "collapsed": false,
    "pycharm": {
     "name": "#%%\n"
    }
   }
  }
 ],
 "metadata": {
  "kernelspec": {
   "display_name": "Python 3",
   "language": "python",
   "name": "python3"
  },
  "language_info": {
   "codemirror_mode": {
    "name": "ipython",
    "version": 2
   },
   "file_extension": ".py",
   "mimetype": "text/x-python",
   "name": "python",
   "nbconvert_exporter": "python",
   "pygments_lexer": "ipython2",
   "version": "2.7.6"
  }
 },
 "nbformat": 4,
 "nbformat_minor": 0
}